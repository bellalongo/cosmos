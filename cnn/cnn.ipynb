{
 "cells": [
  {
   "cell_type": "code",
   "execution_count": null,
   "metadata": {},
   "outputs": [],
   "source": [
    "import astropy.units as u\n",
    "import h5py\n",
    "import lightkurve as lk\n",
    "import matplotlib.pyplot as plt\n",
    "import numpy as np\n",
    "import os\n",
    "from os.path import exists\n",
    "import pandas as pd\n",
    "import seaborn as sns\n",
    "import sys\n",
    "# from tqdm import tqdm\n",
    "from tqdm.notebook import tqdm\n",
    "\n",
    "sys.path.append('..')\n",
    "from file_editing import *\n",
    "from period_finding import *"
   ]
  },
  {
   "cell_type": "code",
   "execution_count": null,
   "metadata": {},
   "outputs": [],
   "source": [
    "# Global variables\n",
    "cadence = 120"
   ]
  },
  {
   "cell_type": "code",
   "execution_count": null,
   "metadata": {},
   "outputs": [],
   "source": [
    "# Commaize if not done already\n",
    "csv_filename = 'cnn_data.csv'\n",
    "if not exists(csv_filename):\n",
    "    commaize('raw_cnn_data.csv', csv_filename)"
   ]
  },
  {
   "cell_type": "code",
   "execution_count": null,
   "metadata": {},
   "outputs": [],
   "source": [
    "# Create training dataset\n",
    "df = pd.read_csv(csv_filename)\n",
    "df = df[['iau_name', 'i', 'porb', 'porbe']] "
   ]
  },
  {
   "cell_type": "code",
   "execution_count": null,
   "metadata": {},
   "outputs": [],
   "source": [
    "'''\n",
    "    name and ingo blah\n",
    "'''\n",
    "def save_data_hdf5(file_name, lightcurve, periodogram, best_period, literature_period, star_name, star_imag):\n",
    "    # Determine if the period is probable\n",
    "    is_real, cutoff = is_real_period(periodogram, best_period)\n",
    "\n",
    "    # Define folded and binned lightcurve\n",
    "    phase_lightcurve = lightcurve.fold(period=best_period)\n",
    "    bin_value = find_bin_value(phase_lightcurve, 50)\n",
    "    binned_lightcurve = phase_lightcurve.bin(bin_value*u.min) \n",
    "\n",
    "    # Lightcurve data\n",
    "    time = lightcurve.time.value\n",
    "    flux = lightcurve.flux.value\n",
    "\n",
    "    # Get the power at the best period\n",
    "    interp_func = interp1d(periodogram.period.value, periodogram.power.value, kind='linear', bounds_error=False, fill_value=np.nan)\n",
    "    power_at_best_period = interp_func(best_period)\n",
    "\n",
    "    # Make an lmfit object and fit it\n",
    "    model = lmfit.Model(sine_wave)\n",
    "    params = model.make_params(amplitude=power_at_best_period, frequency=1/best_period, phase=0.0)\n",
    "    result = model.fit(flux, params, x=time)\n",
    "\n",
    "    # Save data to HDF5\n",
    "    with h5py.File(file_name, 'a') as f:\n",
    "        grp = f.create_group(star_name)\n",
    "        grp.create_dataset('periodogram_period', data = periodogram.period.value)\n",
    "        grp.create_dataset('periodogram_power', data = periodogram.power.value)\n",
    "        grp.create_dataset('time', data = time)\n",
    "        grp.create_dataset('flux', data = flux)\n",
    "        grp.create_dataset('binned_phase', data = binned_lightcurve.phase.value)\n",
    "        grp.create_dataset('binned_flux', data = binned_lightcurve.flux.value)\n",
    "        grp.create_dataset('fitted_sine_wave', data = result.best_fit)\n",
    "        grp.create_dataset('residuals', data = flux - result.best_fit)\n",
    "        grp.attrs['best_period'] = best_period\n",
    "        grp.attrs['literature_period'] = literature_period\n",
    "        grp.attrs['star_imag'] = star_imag\n",
    "        grp.attrs['real_label'] = is_real"
   ]
  },
  {
   "cell_type": "code",
   "execution_count": null,
   "metadata": {},
   "outputs": [],
   "source": [
    "# Check if data has already been added\n",
    "if exists('training_data.h5'):\n",
    "    print('File training_data.h5 already exists.')\n",
    "else:\n",
    "    for _, row in tqdm(df.iterrows(), desc=\"Processing lightcurves\", total = len(df)):\n",
    "        # Pull data for that star\n",
    "        try:\n",
    "            result = lk.search_lightcurve(row['iau_name'], mission = 'TESS')\n",
    "            result_exposures = result.exptime\n",
    "        except Exception as e:\n",
    "            print(f\"Error for {row['iau_name']}: {e} \\n\")\n",
    "            continue\n",
    "\n",
    "        lightcurve = append_lightcurves(result, result_exposures, cadence)\n",
    "        if not lightcurve: continue # check if there was a result with the cadence needed\n",
    "\n",
    "        # Star data\n",
    "        star_name = 'TIC ' + str(lightcurve.meta['TICID'])\n",
    "        star_imag = row['i']\n",
    "        literature_period = (row['porb']*u.hour).to(u.day).value\n",
    "        \n",
    "        # Get periodogram\n",
    "        periodogram = lightcurve.to_periodogram(oversample_factor = 10, \n",
    "                                                minimum_period = (2*cadence*u.second).to(u.day).value, \n",
    "                                                maximum_period = 14)\n",
    "        \n",
    "        # Determine if the period is probable\n",
    "        best_period = periodogram.period_at_max_power.value \n",
    "\n",
    "        # Save the data\n",
    "        save_data_hdf5('training_data.h5', lightcurve, periodogram, best_period, literature_period, star_name, star_imag)"
   ]
  }
 ],
 "metadata": {
  "kernelspec": {
   "display_name": "pceb_ob_ENV",
   "language": "python",
   "name": "python3"
  },
  "language_info": {
   "codemirror_mode": {
    "name": "ipython",
    "version": 3
   },
   "file_extension": ".py",
   "mimetype": "text/x-python",
   "name": "python",
   "nbconvert_exporter": "python",
   "pygments_lexer": "ipython3",
   "version": "3.12.2"
  }
 },
 "nbformat": 4,
 "nbformat_minor": 2
}
