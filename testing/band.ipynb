{
 "cells": [
  {
   "cell_type": "markdown",
   "id": "c01213d2-231f-4b92-967c-d325aab43fe7",
   "metadata": {},
   "source": [
    "### Query\n",
    "\n",
    "make $i_{mag} < 18$ and $\\text{WD/M}$ pairs\n",
    "\n",
    "\n",
    "```\n",
    "SELECT *\n",
    "FROM mean_param\n",
    "WHERE type = 'WD/M'\n",
    "AND (i) <18 ;\n",
    "\n",
    "```"
   ]
  },
  {
   "cell_type": "code",
   "execution_count": null,
   "id": "d006e829-41fd-4472-ba3a-f7439af7352f",
   "metadata": {},
   "outputs": [],
   "source": [
    "import csv\n",
    "import lightkurve as lk\n",
    "import matplotlib.pyplot as plt\n",
    "import seaborn as sns\n",
    "from scipy.optimize import curve_fit\n",
    "import numpy as np\n",
    "import astropy.units as u"
   ]
  }
 ],
 "metadata": {
  "kernelspec": {
   "display_name": "Python 3 (ipykernel)",
   "language": "python",
   "name": "python3"
  },
  "language_info": {
   "codemirror_mode": {
    "name": "ipython",
    "version": 3
   },
   "file_extension": ".py",
   "mimetype": "text/x-python",
   "name": "python",
   "nbconvert_exporter": "python",
   "pygments_lexer": "ipython3",
   "version": "3.12.2"
  }
 },
 "nbformat": 4,
 "nbformat_minor": 5
}
