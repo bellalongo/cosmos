{
 "cells": [
  {
   "cell_type": "markdown",
   "id": "14d2ba15-c8c0-4966-bdea-181289b25ee0",
   "metadata": {},
   "source": [
    "### Query \n",
    "make $i_{mag} < 18$\n",
    "~~~\n",
    "    SELECT *\n",
    "    FROM mean_param\n",
    "    JOIN magnitudes ON mean_param.iau_name = magnitudes.iau_name\n",
    "    WHERE magnitudes.i < 18;\n",
    "~~~"
   ]
  },
  {
   "cell_type": "code",
   "execution_count": null,
   "id": "b8f9589d-3304-4988-aab9-f92451daa2d1",
   "metadata": {},
   "outputs": [],
   "source": []
  }
 ],
 "metadata": {
  "kernelspec": {
   "display_name": "Python 3 (ipykernel)",
   "language": "python",
   "name": "python3"
  },
  "language_info": {
   "codemirror_mode": {
    "name": "ipython",
    "version": 3
   },
   "file_extension": ".py",
   "mimetype": "text/x-python",
   "name": "python",
   "nbconvert_exporter": "python",
   "pygments_lexer": "ipython3",
   "version": "3.12.2"
  }
 },
 "nbformat": 4,
 "nbformat_minor": 5
}
