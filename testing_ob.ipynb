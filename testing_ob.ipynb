{
 "cells": [
  {
   "cell_type": "markdown",
   "metadata": {},
   "source": [
    "#### Query\n",
    "```\n",
    "SELECT *\n",
    "FROM mean_param\n",
    "WHERE sigma IN (3, 4) -- Selecting PCEBs (sigma=3 or sigma=4)\n",
    "AND type = 'WD/M';\n",
    "\n",
    "```"
   ]
  },
  {
   "cell_type": "code",
   "execution_count": 1,
   "metadata": {},
   "outputs": [],
   "source": [
    "import csv\n",
    "import lightkurve as lk\n",
    "import matplotlib.pyplot as plt\n",
    "import seaborn as sns\n",
    "from scipy.optimize import curve_fit\n",
    "import numpy as np"
   ]
  },
  {
   "cell_type": "code",
   "execution_count": 2,
   "metadata": {},
   "outputs": [],
   "source": [
    "palette = sns.color_palette()"
   ]
  },
  {
   "cell_type": "code",
   "execution_count": 3,
   "metadata": {},
   "outputs": [],
   "source": [
    "# Define the sine wave function\n",
    "def sine_wave(t, amplitude, frequency, phase, offset):\n",
    "    t_float = t.value.astype(float)\n",
    "    return amplitude * np.sin(2 * np.pi * frequency * t_float + phase) + offset"
   ]
  },
  {
   "cell_type": "code",
   "execution_count": 4,
   "metadata": {},
   "outputs": [],
   "source": [
    "# Define a function to fold the light curve\n",
    "def fold_light_curve(time, flux, period):\n",
    "    folded_time = time % period\n",
    "    # Sort the folded time for plotting\n",
    "    sorted_indices = np.argsort(folded_time)\n",
    "    return folded_time[sorted_indices], flux[sorted_indices]"
   ]
  },
  {
   "cell_type": "code",
   "execution_count": 5,
   "metadata": {},
   "outputs": [],
   "source": [
    "# Make query seperated by commas instead of spaces\n",
    "with open('sdss_query.csv', 'r') as csvfile:\n",
    "    reader = csv.reader(csvfile, delimiter='\\t')\n",
    "\n",
    "    with open('final_sdds_query.csv', 'w', newline='') as outfile:\n",
    "        writer = csv.writer(outfile)\n",
    "        \n",
    "        # Iterate through each row\n",
    "        for row in reader:\n",
    "            # Replace spaces for commas for each element\n",
    "            modified_row = [column.replace(' ', ',') for column in row]\n",
    "            \n",
    "            writer.writerow(modified_row)"
   ]
  },
  {
   "cell_type": "markdown",
   "metadata": {},
   "source": [
    "## SDSSJ013851.54-001621.6\n",
    "*row 1*"
   ]
  },
  {
   "cell_type": "code",
   "execution_count": null,
   "metadata": {},
   "outputs": [],
   "source": [
    "star1_result = lk.search_lightcurve('SDSSJ013851.54-001621.6', mission='TESS')\n",
    "star1_result"
   ]
  },
  {
   "cell_type": "code",
   "execution_count": null,
   "metadata": {
    "scrolled": true
   },
   "outputs": [],
   "source": [
    "star1_lc = star1_result[0].download().remove_nans()\n",
    "star1_lc.plot(color=palette[0])\n",
    "plt.show()"
   ]
  },
  {
   "cell_type": "code",
   "execution_count": null,
   "metadata": {},
   "outputs": [],
   "source": [
    "star1_pg = star1_lc.to_periodogram(oversample_factor=1)\n",
    "star1_pg.plot(color = palette[0]);\n",
    "plt.show()"
   ]
  },
  {
   "cell_type": "code",
   "execution_count": null,
   "metadata": {},
   "outputs": [],
   "source": [
    "star1_pg.period"
   ]
  },
  {
   "cell_type": "code",
   "execution_count": null,
   "metadata": {},
   "outputs": [],
   "source": [
    "period_fold_lc = star1_lc.fold(period=star1_pg.period_at_max_power).scatter(color = palette[0]);\n",
    "plt.show()"
   ]
  },
  {
   "cell_type": "code",
   "execution_count": null,
   "metadata": {},
   "outputs": [],
   "source": [
    "star1_pg.period_at_max_power"
   ]
  },
  {
   "cell_type": "code",
   "execution_count": null,
   "metadata": {},
   "outputs": [],
   "source": [
    "star1_lc.fold(period=star1_pg.period_at_max_power, wrap_phase=0.01).scatter(color = palette[0]);\n",
    "plt.show()"
   ]
  },
  {
   "cell_type": "code",
   "execution_count": null,
   "metadata": {},
   "outputs": [],
   "source": [
    "folded_lc = star1_lc.fold(period=star1_pg.period_at_max_power, wrap_phase=0.01)\n",
    "\n",
    "initial_guess = (24, 1, 0, 0) # amplitude, frequency, phase, offset\n",
    "popt, pcov = curve_fit(sine_wave, folded_lc.time, folded_lc.flux, p0=initial_guess)\n",
    "\n",
    "fitted_curve = sine_wave(folded_lc.time, *popt)\n",
    "time_values = folded_lc.time.value.astype(float)\n",
    "\n",
    "plt.figure(figsize=(14,7))\n",
    "plt.scatter(time_values, folded_lc.flux, color=palette[0], label='Folded Light Curve')\n",
    "plt.plot(time_values, fitted_curve, color=palette[1], label='Fitted Sine Wave')\n",
    "plt.xlabel('Phase')\n",
    "plt.ylabel('Flux')\n",
    "plt.legend()\n",
    "plt.show()"
   ]
  },
  {
   "cell_type": "code",
   "execution_count": null,
   "metadata": {},
   "outputs": [],
   "source": [
    "\"\"\"\n",
    "    FOLD SIN WITH OG DATA!\n",
    "\"\"\""
   ]
  },
  {
   "cell_type": "markdown",
   "metadata": {},
   "source": [
    "## SDSSJ084841.17+232051.7\n",
    "*row 5*"
   ]
  },
  {
   "cell_type": "code",
   "execution_count": null,
   "metadata": {},
   "outputs": [],
   "source": [
    "star2_result = lk.search_lightcurve('SDSSJ084841.17+232051.7', mission='TESS')\n",
    "star2_result"
   ]
  },
  {
   "cell_type": "code",
   "execution_count": null,
   "metadata": {},
   "outputs": [],
   "source": [
    "star2_lc = star2_result.download()\n",
    "star2_lc.plot()\n",
    "plt.show()"
   ]
  },
  {
   "cell_type": "code",
   "execution_count": null,
   "metadata": {},
   "outputs": [],
   "source": [
    "star2_lc.scatter()\n",
    "plt.show()"
   ]
  }
 ],
 "metadata": {
  "kernelspec": {
   "display_name": "Python 3 (ipykernel)",
   "language": "python",
   "name": "python3"
  },
  "language_info": {
   "codemirror_mode": {
    "name": "ipython",
    "version": 3
   },
   "file_extension": ".py",
   "mimetype": "text/x-python",
   "name": "python",
   "nbconvert_exporter": "python",
   "pygments_lexer": "ipython3",
   "version": "3.12.2"
  }
 },
 "nbformat": 4,
 "nbformat_minor": 4
}
