{
 "cells": [
  {
   "cell_type": "markdown",
   "metadata": {},
   "source": [
    "#### Query\n",
    "```\n",
    "SELECT *\n",
    "FROM mean_param\n",
    "WHERE sigma IN (3, 4) -- Selecting PCEBs (sigma=3 or sigma=4)\n",
    "AND type = 'WD/M';\n",
    "\n",
    "```"
   ]
  },
  {
   "cell_type": "code",
   "execution_count": 2,
   "metadata": {},
   "outputs": [
    {
     "name": "stdout",
     "output_type": "stream",
     "text": [
      "Conversion completed. Output written to 'output.csv'.\n"
     ]
    }
   ],
   "source": [
    "import csv\n",
    "\n",
    "# Open the input CSV file\n",
    "with open('sdss_query.csv', 'r') as csvfile:\n",
    "    # Read the CSV file\n",
    "    reader = csv.reader(csvfile, delimiter='\\t')\n",
    "    \n",
    "    # Open a new output CSV file\n",
    "    with open('output.csv', 'w', newline='') as outfile:\n",
    "        # Create a CSV writer\n",
    "        writer = csv.writer(outfile)\n",
    "        \n",
    "        # Iterate over each row in the input CSV file\n",
    "        for row in reader:\n",
    "            # Replace spaces with commas in each element of the row\n",
    "            modified_row = [column.replace(' ', ',') for column in row]\n",
    "            \n",
    "            # Write the modified row to the output CSV file\n",
    "            writer.writerow(modified_row)\n",
    "\n",
    "print(\"Conversion completed. Output written to 'output.csv'.\")\n"
   ]
  }
 ],
 "metadata": {
  "kernelspec": {
   "display_name": "pceb_ob_ENV",
   "language": "python",
   "name": "python3"
  },
  "language_info": {
   "codemirror_mode": {
    "name": "ipython",
    "version": 3
   },
   "file_extension": ".py",
   "mimetype": "text/x-python",
   "name": "python",
   "nbconvert_exporter": "python",
   "pygments_lexer": "ipython3",
   "version": "3.12.2"
  }
 },
 "nbformat": 4,
 "nbformat_minor": 2
}
